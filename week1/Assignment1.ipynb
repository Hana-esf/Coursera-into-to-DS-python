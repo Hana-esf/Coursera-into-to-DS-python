{
 "cells": [
  {
   "cell_type": "markdown",
   "metadata": {},
   "source": [
    "Part A"
   ]
  },
  {
   "cell_type": "code",
   "execution_count": 6,
   "metadata": {},
   "outputs": [
    {
     "name": "stdout",
     "output_type": "stream",
     "text": [
      "['Amy', 'Mary', 'Ruth', 'Peter']\n"
     ]
    }
   ],
   "source": [
    "import re\n",
    "def names():\n",
    "    simple_string = \"\"\"Amy is 5 years old, and her sister Mary is 2 years old. \n",
    "    Ruth and Peter, their parents, have 3 kids.\"\"\"\n",
    "    \n",
    "    return(re.findall('[A-Z]+[a-z]*', simple_string))\n",
    "    # YOUR CODE HERE\n",
    "    raise NotImplementedError()\n",
    "print(names())"
   ]
  },
  {
   "cell_type": "markdown",
   "metadata": {},
   "source": [
    "Part B"
   ]
  },
  {
   "cell_type": "code",
   "execution_count": 39,
   "metadata": {},
   "outputs": [
    {
     "name": "stdout",
     "output_type": "stream",
     "text": [
      "['Bell Kassulke', 'Simon Loidl', 'Elias Jovanovic', 'Hakim Botros', 'Emilie Lorentsen', 'Jake Wood', 'Fatemeh Akhtar', 'Kim Weston', 'Yasmin Dar', 'Viswamitra Upandhye', 'Killian Kaufman', 'Elwood Page', 'Elodie Booker', 'Adnan Chen', 'Hank Spinka', 'Hannah Bayer']\n"
     ]
    }
   ],
   "source": [
    "import re\n",
    "def grades():\n",
    "    with open (\"Resources/grades.txt\", \"r\") as file:\n",
    "        grades = file.read()\n",
    "    grade_B = re.findall('[A-Z][a-z]+ [A-Z][a-z]+: B', grades)\n",
    "    return list(map(lambda name: name.split(':')[0],grade_B))\n",
    "    # YOUR CODE HERE\n",
    "    #raise NotImplementedError()\n",
    "print(grades())"
   ]
  },
  {
   "cell_type": "markdown",
   "metadata": {},
   "source": [
    "Part C"
   ]
  },
  {
   "cell_type": "code",
   "execution_count": 47,
   "metadata": {},
   "outputs": [
    {
     "name": "stdout",
     "output_type": "stream",
     "text": [
      "[]\n",
      "None\n"
     ]
    }
   ],
   "source": [
    "def logs():\n",
    "    with open(\"Resources/logdata.txt\", \"r\") as file:\n",
    "        logdata = file.read()\n",
    "    user_search_info = {\"host\":\"\", \"user_name\":\"\", \"time\":\"\", \"request\":\"\"}\n",
    "    user_search_info[\"host\"] = re.findall('[0-9]* -',logdata,re.MULTILINE)\n",
    "    print(user_search_info[\"host\"])\n",
    "    # YOUR CODE HERE\n",
    "    #raise NotImplementedError()\n",
    "print(logs())\n",
    "\n",
    "\n",
    "# def logs():\n",
    "#     with open(\"assets/logdata.txt\", \"r\") as file:\n",
    "#         logdata = file.read()\n",
    "    \n",
    "#     # YOUR CODE HERE\n",
    "#         result = []\n",
    "#     pattern = re.compile(\n",
    "#     r'(?P<host>(?:\\d+\\.){3}\\d+)\\s'\n",
    "#     r'(?:-)\\s'\n",
    "#     r'(?P<user_name>\\S+)\\s'\n",
    "#     r'\\[(?P<time>[-+\\w\\s:/]+)\\]\\s'\n",
    "#     r'\"(?P<request>.*)\"')\n"
   ]
  },
  {
   "cell_type": "code",
   "execution_count": null,
   "metadata": {},
   "outputs": [],
   "source": []
  },
  {
   "cell_type": "code",
   "execution_count": null,
   "metadata": {},
   "outputs": [],
   "source": []
  }
 ],
 "metadata": {
  "interpreter": {
   "hash": "e7370f93d1d0cde622a1f8e1c04877d8463912d04d973331ad4851f04de6915a"
  },
  "kernelspec": {
   "display_name": "Python 3.10.4 64-bit",
   "language": "python",
   "name": "python3"
  },
  "language_info": {
   "codemirror_mode": {
    "name": "ipython",
    "version": 3
   },
   "file_extension": ".py",
   "mimetype": "text/x-python",
   "name": "python",
   "nbconvert_exporter": "python",
   "pygments_lexer": "ipython3",
   "version": "3.10.4"
  },
  "orig_nbformat": 4
 },
 "nbformat": 4,
 "nbformat_minor": 2
}
