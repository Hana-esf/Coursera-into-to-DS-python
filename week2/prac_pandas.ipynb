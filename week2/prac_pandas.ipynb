{
 "cells": [
  {
   "cell_type": "markdown",
   "metadata": {},
   "source": [
    "### Practicing Pandas Library"
   ]
  },
  {
   "cell_type": "code",
   "execution_count": 8,
   "metadata": {},
   "outputs": [],
   "source": [
    "import pandas as pd\n",
    "import numpy as np\n",
    "\n",
    "student_classes = {\n",
    "    'Alice' : 'Physics',\n",
    "    'Jack'  : 'Chemistry',\n",
    "    'Molly' : 'English',\n",
    "    'Sam'   : 'History'\n",
    "}\n",
    "s = pd.Series(student_classes)"
   ]
  },
  {
   "cell_type": "code",
   "execution_count": 10,
   "metadata": {},
   "outputs": [],
   "source": [
    "s.iloc[3]\n",
    "s"
   ]
  },
  {
   "cell_type": "code",
   "execution_count": null,
   "metadata": {},
   "outputs": [],
   "source": [
    "numbers = pd.Series(np.random.randint(0,1000,10000))\n",
    "#this will print the 4 first random number in the numbers list\n",
    "print(numbers.head())"
   ]
  },
  {
   "cell_type": "markdown",
   "metadata": {},
   "source": [
    "### Dataframe Data Structure"
   ]
  },
  {
   "cell_type": "code",
   "execution_count": null,
   "metadata": {},
   "outputs": [],
   "source": [
    "import pandas as pd\n",
    "record1 = pd.Series({'name':'Sara','Class':'Physics','Score':86})\n",
    "record2 = pd.Series({'name':'Hana','Class':'Programming','Score':100})\n",
    "record3 = pd.Series({'name':'Jack','Class':'Biology','Score':90})\n",
    "\n",
    "df = pd.DataFrame([record1,record2,record3],index=['school1','school2','school3'])\n",
    "\n",
    "# print(df.head())"
   ]
  },
  {
   "cell_type": "code",
   "execution_count": null,
   "metadata": {},
   "outputs": [],
   "source": [
    "import pandas as pd\n",
    "\n",
    "df = pd.read_csv('Resources/Admission_predict.csv')\n",
    "df.head()"
   ]
  },
  {
   "cell_type": "code",
   "execution_count": null,
   "metadata": {},
   "outputs": [],
   "source": [
    "#renaming the columns\n",
    "import pandas as pd\n",
    "\n",
    "df = pd.read_csv('Admission_predict.csv',index_col = 0)\n",
    "\n",
    "new_df = df.rename(columns = {'GRE Score':'GRE Score',\n",
    "                              'TOEFL Score': 'TOEFL Score', \n",
    "                              'University Ratting':'University Ratting',\n",
    "                              'SOP':'Statement Of Purpose',\n",
    "                              'LOR':'Letter Of Recommnedation',\n",
    "                              'Chance of Admit':'Chance of Admit'\n",
    "                              })\n",
    "new_df.head()\n"
   ]
  },
  {
   "cell_type": "markdown",
   "metadata": {},
   "source": [
    "##### By running the code above, only the name of the SOP column changed. Because if we get the name of the columns, we see that there is a space after LOR in the original name that we didn't include that in the code above"
   ]
  },
  {
   "cell_type": "code",
   "execution_count": null,
   "metadata": {},
   "outputs": [],
   "source": [
    "new_df.columns  #this line will returns the original name of the columns in the csv file\n",
    "new_df = df.rename(columns = {'LOR ':'Letter Of Recommnedation'})"
   ]
  },
  {
   "cell_type": "markdown",
   "metadata": {},
   "source": [
    "### Querying Dataframe"
   ]
  },
  {
   "cell_type": "code",
   "execution_count": null,
   "metadata": {},
   "outputs": [],
   "source": []
  },
  {
   "cell_type": "markdown",
   "metadata": {},
   "source": [
    "### Indexing Dataframe"
   ]
  },
  {
   "cell_type": "markdown",
   "metadata": {},
   "source": [
    "### Manipulating Dataframe"
   ]
  },
  {
   "cell_type": "code",
   "execution_count": null,
   "metadata": {},
   "outputs": [],
   "source": [
    "import pandas as pd\n",
    "df = pd.read_csv('Resources/Presidents.csv')\n",
    "df.head()\n",
    "\n",
    "#adding a column name \"first_name\" that contains the presidents' names\n",
    "df[\"first_name\"] = df['President']\n",
    "df[\"first_name\"] = df[\"first_name\"].replace(\"[ ].*\",\"\",regex = True)\n",
    "df.head()\n",
    "\n",
    "#inorder to drop a column, we use:\n",
    "del(df['first_name'])"
   ]
  },
  {
   "cell_type": "markdown",
   "metadata": {},
   "source": [
    "### Quiz2"
   ]
  },
  {
   "cell_type": "code",
   "execution_count": null,
   "metadata": {},
   "outputs": [],
   "source": [
    "import pandas as pd\n",
    "sdata = {'Ohio': 35000, 'Texas': 71000, 'Oregon': 16000, 'Utah': 5000}\n",
    "obj1 = pd.Series(sdata)\n",
    "states = ['California', 'Ohio', 'Oregon', 'Texas']\n",
    "obj2 = pd.Series(sdata, index=states)\n",
    "obj3 = pd.isnull(obj2)"
   ]
  },
  {
   "cell_type": "code",
   "execution_count": null,
   "metadata": {},
   "outputs": [],
   "source": [
    "obj3['California']\n",
    "#output is : True"
   ]
  },
  {
   "cell_type": "code",
   "execution_count": null,
   "metadata": {},
   "outputs": [],
   "source": [
    "print(obj2)\n",
    "import math\n",
    "math.isnan(obj2['California'])\n",
    "#output is : True"
   ]
  },
  {
   "cell_type": "code",
   "execution_count": null,
   "metadata": {},
   "outputs": [],
   "source": [
    "obj2['California'] == None\n",
    "#output : nan"
   ]
  },
  {
   "cell_type": "code",
   "execution_count": null,
   "metadata": {},
   "outputs": [],
   "source": [
    "import pandas as pd\n",
    "d = {'1': 'Alice','2': 'Bob','3': 'Rita','4': 'Molly','5': 'Ryan'}\n",
    "S = pd.Series(d)\n",
    "S.iloc[0:3]\n",
    "#output :\n",
    "#1  Alic\n",
    "#2  Bob\n",
    "#3  Rita\n",
    "\n",
    "#the output of S.loc[0:3] does not include the third row"
   ]
  },
  {
   "cell_type": "code",
   "execution_count": null,
   "metadata": {},
   "outputs": [],
   "source": []
  }
 ],
 "metadata": {
  "interpreter": {
   "hash": "e7370f93d1d0cde622a1f8e1c04877d8463912d04d973331ad4851f04de6915a"
  },
  "kernelspec": {
   "display_name": "Python 3.10.4 64-bit",
   "language": "python",
   "name": "python3"
  },
  "language_info": {
   "codemirror_mode": {
    "name": "ipython",
    "version": 3
   },
   "file_extension": ".py",
   "mimetype": "text/x-python",
   "name": "python",
   "nbconvert_exporter": "python",
   "pygments_lexer": "ipython3",
   "version": "3.10.4"
  },
  "orig_nbformat": 4
 },
 "nbformat": 4,
 "nbformat_minor": 2
}
