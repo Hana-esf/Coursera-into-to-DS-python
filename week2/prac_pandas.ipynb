{
 "cells": [
  {
   "cell_type": "markdown",
   "metadata": {},
   "source": [
    "### Practicing Pandas Library"
   ]
  },
  {
   "cell_type": "code",
   "execution_count": 8,
   "metadata": {},
   "outputs": [],
   "source": [
    "import pandas as pd\n",
    "import numpy as np\n",
    "\n",
    "student_classes = {\n",
    "    'Alice' : 'Physics',\n",
    "    'Jack'  : 'Chemistry',\n",
    "    'Molly' : 'English',\n",
    "    'Sam'   : 'History'\n",
    "}\n",
    "s = pd.Series(student_classes)"
   ]
  },
  {
   "cell_type": "code",
   "execution_count": 10,
   "metadata": {},
   "outputs": [],
   "source": [
    "s.iloc[3]\n",
    "s"
   ]
  },
  {
   "cell_type": "code",
   "execution_count": null,
   "metadata": {},
   "outputs": [],
   "source": [
    "numbers = pd.Series(np.random.randint(0,1000,10000))\n",
    "#this will print the 4 first random number in the numbers list\n",
    "print(numbers.head())"
   ]
  },
  {
   "cell_type": "markdown",
   "metadata": {},
   "source": [
    "### Dataframe Data Structure"
   ]
  },
  {
   "cell_type": "code",
   "execution_count": null,
   "metadata": {},
   "outputs": [],
   "source": [
    "import pandas as pd\n",
    "record1 = pd.Series({'name':'Sara','Class':'Physics','Score':86})\n",
    "record2 = pd.Series({'name':'Hana','Class':'Programming','Score':100})\n",
    "record3 = pd.Series({'name':'Jack','Class':'Biology','Score':90})\n",
    "\n",
    "df = pd.DataFrame([record1,record2,record3],index=['school1','school2','school3'])\n",
    "\n",
    "# print(df.head())"
   ]
  },
  {
   "cell_type": "code",
   "execution_count": null,
   "metadata": {},
   "outputs": [],
   "source": [
    "import pandas as pd\n",
    "\n",
    "df = pd.read_csv('Resources/Admission_predict.csv')\n",
    "df.head()"
   ]
  },
  {
   "cell_type": "code",
   "execution_count": null,
   "metadata": {},
   "outputs": [],
   "source": [
    "#renaming the columns\n",
    "import pandas as pd\n",
    "\n",
    "df = pd.read_csv('Admission_predict.csv',index_col = 0)\n",
    "\n",
    "new_df = df.rename(columns = {'GRE Score':'GRE Score',\n",
    "                              'TOEFL Score': 'TOEFL Score', \n",
    "                              'University Ratting':'University Ratting',\n",
    "                              'SOP':'Statement Of Purpose',\n",
    "                              'LOR':'Letter Of Recommnedation',\n",
    "                              'Chance of Admit':'Chance of Admit'\n",
    "                              })\n",
    "new_df.head()\n"
   ]
  },
  {
   "cell_type": "markdown",
   "metadata": {},
   "source": [
    "##### By running the code above, only the name of the SOP column changed. Because if we get the name of the columns, we see that there is a space after LOR in the original name that we didn't include that in the code above"
   ]
  },
  {
   "cell_type": "code",
   "execution_count": null,
   "metadata": {},
   "outputs": [],
   "source": [
    "new_df.columns  #this line will returns the original name of the columns in the csv file\n",
    "new_df = df.rename(columns = {'LOR ':'Letter Of Recommnedation'})"
   ]
  },
  {
   "cell_type": "markdown",
   "metadata": {},
   "source": [
    "### Querying Dataframe"
   ]
  },
  {
   "cell_type": "code",
   "execution_count": null,
   "metadata": {},
   "outputs": [],
   "source": []
  },
  {
   "cell_type": "markdown",
   "metadata": {},
   "source": [
    "### Indexing Dataframe"
   ]
  },
  {
   "cell_type": "markdown",
   "metadata": {},
   "source": []
  }
 ],
 "metadata": {
  "interpreter": {
   "hash": "e7370f93d1d0cde622a1f8e1c04877d8463912d04d973331ad4851f04de6915a"
  },
  "kernelspec": {
   "display_name": "Python 3.10.4 64-bit",
   "language": "python",
   "name": "python3"
  },
  "language_info": {
   "codemirror_mode": {
    "name": "ipython",
    "version": 3
   },
   "file_extension": ".py",
   "mimetype": "text/x-python",
   "name": "python",
   "nbconvert_exporter": "python",
   "pygments_lexer": "ipython3",
   "version": "3.10.4"
  },
  "orig_nbformat": 4
 },
 "nbformat": 4,
 "nbformat_minor": 2
}
